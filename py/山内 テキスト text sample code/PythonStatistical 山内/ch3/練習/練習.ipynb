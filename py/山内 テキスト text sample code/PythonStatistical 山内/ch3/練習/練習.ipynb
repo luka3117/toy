{
 "cells": [
  {
   "cell_type": "markdown",
   "metadata": {},
   "source": [
    "# List 3-1  平均値の計算"
   ]
  },
  {
   "cell_type": "code",
   "execution_count": 1,
   "metadata": {},
   "outputs": [
    {
     "name": "stdout",
     "output_type": "stream",
     "text": [
      "174.00999999999996\n"
     ]
    }
   ],
   "source": [
    "height = [168.3, 179.2, 165.8, 170.5, 188.2, 174.6, 162.8, 175.5, 178.1, 177.1]\n",
    "average = sum(height)/len(height)\n",
    "print(average)"
   ]
  },
  {
   "cell_type": "code",
   "execution_count": 6,
   "metadata": {},
   "outputs": [
    {
     "name": "stderr",
     "output_type": "stream",
     "text": [
      "c:\\users\\sunjin\\appdata\\local\\programs\\python\\python37\\lib\\site-packages\\matplotlib\\backends\\backend_agg.py:211: RuntimeWarning: Glyph 25104 missing from current font.\n",
      "  font.set_text(s, 0.0, flags=flags)\n",
      "c:\\users\\sunjin\\appdata\\local\\programs\\python\\python37\\lib\\site-packages\\matplotlib\\backends\\backend_agg.py:211: RuntimeWarning: Glyph 32318 missing from current font.\n",
      "  font.set_text(s, 0.0, flags=flags)\n",
      "c:\\users\\sunjin\\appdata\\local\\programs\\python\\python37\\lib\\site-packages\\matplotlib\\backends\\backend_agg.py:211: RuntimeWarning: Glyph 12398 missing from current font.\n",
      "  font.set_text(s, 0.0, flags=flags)\n",
      "c:\\users\\sunjin\\appdata\\local\\programs\\python\\python37\\lib\\site-packages\\matplotlib\\backends\\backend_agg.py:211: RuntimeWarning: Glyph 38971 missing from current font.\n",
      "  font.set_text(s, 0.0, flags=flags)\n",
      "c:\\users\\sunjin\\appdata\\local\\programs\\python\\python37\\lib\\site-packages\\matplotlib\\backends\\backend_agg.py:211: RuntimeWarning: Glyph 24230 missing from current font.\n",
      "  font.set_text(s, 0.0, flags=flags)\n",
      "c:\\users\\sunjin\\appdata\\local\\programs\\python\\python37\\lib\\site-packages\\matplotlib\\backends\\backend_agg.py:211: RuntimeWarning: Glyph 20998 missing from current font.\n",
      "  font.set_text(s, 0.0, flags=flags)\n",
      "c:\\users\\sunjin\\appdata\\local\\programs\\python\\python37\\lib\\site-packages\\matplotlib\\backends\\backend_agg.py:211: RuntimeWarning: Glyph 24067 missing from current font.\n",
      "  font.set_text(s, 0.0, flags=flags)\n",
      "c:\\users\\sunjin\\appdata\\local\\programs\\python\\python37\\lib\\site-packages\\matplotlib\\backends\\backend_agg.py:211: RuntimeWarning: Glyph 20154 missing from current font.\n",
      "  font.set_text(s, 0.0, flags=flags)\n",
      "c:\\users\\sunjin\\appdata\\local\\programs\\python\\python37\\lib\\site-packages\\matplotlib\\backends\\backend_agg.py:180: RuntimeWarning: Glyph 20154 missing from current font.\n",
      "  font.set_text(s, 0, flags=flags)\n",
      "c:\\users\\sunjin\\appdata\\local\\programs\\python\\python37\\lib\\site-packages\\matplotlib\\backends\\backend_agg.py:180: RuntimeWarning: Glyph 38971 missing from current font.\n",
      "  font.set_text(s, 0, flags=flags)\n",
      "c:\\users\\sunjin\\appdata\\local\\programs\\python\\python37\\lib\\site-packages\\matplotlib\\backends\\backend_agg.py:180: RuntimeWarning: Glyph 24230 missing from current font.\n",
      "  font.set_text(s, 0, flags=flags)\n",
      "c:\\users\\sunjin\\appdata\\local\\programs\\python\\python37\\lib\\site-packages\\matplotlib\\backends\\backend_agg.py:180: RuntimeWarning: Glyph 25104 missing from current font.\n",
      "  font.set_text(s, 0, flags=flags)\n",
      "c:\\users\\sunjin\\appdata\\local\\programs\\python\\python37\\lib\\site-packages\\matplotlib\\backends\\backend_agg.py:180: RuntimeWarning: Glyph 32318 missing from current font.\n",
      "  font.set_text(s, 0, flags=flags)\n",
      "c:\\users\\sunjin\\appdata\\local\\programs\\python\\python37\\lib\\site-packages\\matplotlib\\backends\\backend_agg.py:180: RuntimeWarning: Glyph 12398 missing from current font.\n",
      "  font.set_text(s, 0, flags=flags)\n",
      "c:\\users\\sunjin\\appdata\\local\\programs\\python\\python37\\lib\\site-packages\\matplotlib\\backends\\backend_agg.py:180: RuntimeWarning: Glyph 20998 missing from current font.\n",
      "  font.set_text(s, 0, flags=flags)\n",
      "c:\\users\\sunjin\\appdata\\local\\programs\\python\\python37\\lib\\site-packages\\matplotlib\\backends\\backend_agg.py:180: RuntimeWarning: Glyph 24067 missing from current font.\n",
      "  font.set_text(s, 0, flags=flags)\n"
     ]
    },
    {
     "data": {
      "image/png": "[encoded data removed]",
      "text/plain": [
       "<Figure size 432x288 with 1 Axes>"
      ]
     },
     "metadata": {
      "needs_background": "light"
     },
     "output_type": "display_data"
    }
   ],
   "source": [
    "# -*- coding: utf-8 -*-\n",
    "\n",
    "%matplotlib inline\n",
    "import matplotlib.pyplot as plt\n",
    "\n",
    "import numpy as np\n",
    "\n",
    "x = [0, 95, 60, 30, 0, 60, 67, 67, 65, 80,\n",
    "   100, 91, 0, 0, 83, 67, 90, 91, 73, 61,\n",
    "   74, 99, 44, 75, 98, 98, 68, 69, 79, 95,\n",
    "   87, 87, 60, 78, 100, 0, 63, 72, 75, 79,\n",
    "   69, 60, 83, 83, 65, 80, 73, 85, 0, 60,\n",
    "   80, 60, 92, 99, 81, 66, 48, 83, 97, 68,\n",
    "   77, 89, 0, 89, 0, 62, 88, 37, 87, 93,\n",
    "   60, 83, 71, 65]\n",
    "plt.hist(x, bins=20, color='gray')\n",
    "plt.title('成績の頻度分布')\n",
    "plt.xlabel('点数')\n",
    "plt.ylabel('人数（頻度）')\n",
    "plt.show()\n"
   ]
  },
  {
   "cell_type": "code",
   "execution_count": 5,
   "metadata": {},
   "outputs": [
    {
     "data": {
      "image/png": "[encoded data removed]",
      "text/plain": [
       "<Figure size 432x288 with 1 Axes>"
      ]
     },
     "metadata": {
      "needs_background": "light"
     },
     "output_type": "display_data"
    },
    {
     "name": "stdout",
     "output_type": "stream",
     "text": [
      "variance 767.38\n",
      "std-deviation 27.7016\n"
     ]
    },
    {
     "name": "stderr",
     "output_type": "stream",
     "text": [
      "c:\\users\\sunjin\\appdata\\local\\programs\\python\\python37\\lib\\site-packages\\matplotlib\\backends\\backend_agg.py:211: RuntimeWarning: Glyph 31665 missing from current font.\n",
      "  font.set_text(s, 0.0, flags=flags)\n",
      "c:\\users\\sunjin\\appdata\\local\\programs\\python\\python37\\lib\\site-packages\\matplotlib\\backends\\backend_agg.py:211: RuntimeWarning: Glyph 12402 missing from current font.\n",
      "  font.set_text(s, 0.0, flags=flags)\n",
      "c:\\users\\sunjin\\appdata\\local\\programs\\python\\python37\\lib\\site-packages\\matplotlib\\backends\\backend_agg.py:211: RuntimeWarning: Glyph 12370 missing from current font.\n",
      "  font.set_text(s, 0.0, flags=flags)\n",
      "c:\\users\\sunjin\\appdata\\local\\programs\\python\\python37\\lib\\site-packages\\matplotlib\\backends\\backend_agg.py:211: RuntimeWarning: Glyph 22259 missing from current font.\n",
      "  font.set_text(s, 0.0, flags=flags)\n",
      "c:\\users\\sunjin\\appdata\\local\\programs\\python\\python37\\lib\\site-packages\\matplotlib\\backends\\backend_agg.py:211: RuntimeWarning: Glyph 65288 missing from current font.\n",
      "  font.set_text(s, 0.0, flags=flags)\n",
      "c:\\users\\sunjin\\appdata\\local\\programs\\python\\python37\\lib\\site-packages\\matplotlib\\backends\\backend_agg.py:211: RuntimeWarning: Glyph 28857 missing from current font.\n",
      "  font.set_text(s, 0.0, flags=flags)\n",
      "c:\\users\\sunjin\\appdata\\local\\programs\\python\\python37\\lib\\site-packages\\matplotlib\\backends\\backend_agg.py:211: RuntimeWarning: Glyph 12399 missing from current font.\n",
      "  font.set_text(s, 0.0, flags=flags)\n",
      "c:\\users\\sunjin\\appdata\\local\\programs\\python\\python37\\lib\\site-packages\\matplotlib\\backends\\backend_agg.py:211: RuntimeWarning: Glyph 38500 missing from current font.\n",
      "  font.set_text(s, 0.0, flags=flags)\n",
      "c:\\users\\sunjin\\appdata\\local\\programs\\python\\python37\\lib\\site-packages\\matplotlib\\backends\\backend_agg.py:211: RuntimeWarning: Glyph 12356 missing from current font.\n",
      "  font.set_text(s, 0.0, flags=flags)\n",
      "c:\\users\\sunjin\\appdata\\local\\programs\\python\\python37\\lib\\site-packages\\matplotlib\\backends\\backend_agg.py:211: RuntimeWarning: Glyph 12383 missing from current font.\n",
      "  font.set_text(s, 0.0, flags=flags)\n",
      "c:\\users\\sunjin\\appdata\\local\\programs\\python\\python37\\lib\\site-packages\\matplotlib\\backends\\backend_agg.py:211: RuntimeWarning: Glyph 65289 missing from current font.\n",
      "  font.set_text(s, 0.0, flags=flags)\n",
      "c:\\users\\sunjin\\appdata\\local\\programs\\python\\python37\\lib\\site-packages\\matplotlib\\backends\\backend_agg.py:211: RuntimeWarning: Glyph 22269 missing from current font.\n",
      "  font.set_text(s, 0.0, flags=flags)\n",
      "c:\\users\\sunjin\\appdata\\local\\programs\\python\\python37\\lib\\site-packages\\matplotlib\\backends\\backend_agg.py:211: RuntimeWarning: Glyph 35486 missing from current font.\n",
      "  font.set_text(s, 0.0, flags=flags)\n",
      "c:\\users\\sunjin\\appdata\\local\\programs\\python\\python37\\lib\\site-packages\\matplotlib\\backends\\backend_agg.py:180: RuntimeWarning: Glyph 22269 missing from current font.\n",
      "  font.set_text(s, 0, flags=flags)\n",
      "c:\\users\\sunjin\\appdata\\local\\programs\\python\\python37\\lib\\site-packages\\matplotlib\\backends\\backend_agg.py:180: RuntimeWarning: Glyph 35486 missing from current font.\n",
      "  font.set_text(s, 0, flags=flags)\n",
      "c:\\users\\sunjin\\appdata\\local\\programs\\python\\python37\\lib\\site-packages\\matplotlib\\backends\\backend_agg.py:211: RuntimeWarning: Glyph 31185 missing from current font.\n",
      "  font.set_text(s, 0.0, flags=flags)\n",
      "c:\\users\\sunjin\\appdata\\local\\programs\\python\\python37\\lib\\site-packages\\matplotlib\\backends\\backend_agg.py:211: RuntimeWarning: Glyph 30446 missing from current font.\n",
      "  font.set_text(s, 0.0, flags=flags)\n",
      "c:\\users\\sunjin\\appdata\\local\\programs\\python\\python37\\lib\\site-packages\\matplotlib\\backends\\backend_agg.py:180: RuntimeWarning: Glyph 31185 missing from current font.\n",
      "  font.set_text(s, 0, flags=flags)\n",
      "c:\\users\\sunjin\\appdata\\local\\programs\\python\\python37\\lib\\site-packages\\matplotlib\\backends\\backend_agg.py:180: RuntimeWarning: Glyph 30446 missing from current font.\n",
      "  font.set_text(s, 0, flags=flags)\n",
      "c:\\users\\sunjin\\appdata\\local\\programs\\python\\python37\\lib\\site-packages\\matplotlib\\backends\\backend_agg.py:211: RuntimeWarning: Glyph 25968 missing from current font.\n",
      "  font.set_text(s, 0.0, flags=flags)\n",
      "c:\\users\\sunjin\\appdata\\local\\programs\\python\\python37\\lib\\site-packages\\matplotlib\\backends\\backend_agg.py:180: RuntimeWarning: Glyph 28857 missing from current font.\n",
      "  font.set_text(s, 0, flags=flags)\n",
      "c:\\users\\sunjin\\appdata\\local\\programs\\python\\python37\\lib\\site-packages\\matplotlib\\backends\\backend_agg.py:180: RuntimeWarning: Glyph 25968 missing from current font.\n",
      "  font.set_text(s, 0, flags=flags)\n",
      "c:\\users\\sunjin\\appdata\\local\\programs\\python\\python37\\lib\\site-packages\\matplotlib\\backends\\backend_agg.py:180: RuntimeWarning: Glyph 31665 missing from current font.\n",
      "  font.set_text(s, 0, flags=flags)\n",
      "c:\\users\\sunjin\\appdata\\local\\programs\\python\\python37\\lib\\site-packages\\matplotlib\\backends\\backend_agg.py:180: RuntimeWarning: Glyph 12402 missing from current font.\n",
      "  font.set_text(s, 0, flags=flags)\n",
      "c:\\users\\sunjin\\appdata\\local\\programs\\python\\python37\\lib\\site-packages\\matplotlib\\backends\\backend_agg.py:180: RuntimeWarning: Glyph 12370 missing from current font.\n",
      "  font.set_text(s, 0, flags=flags)\n",
      "c:\\users\\sunjin\\appdata\\local\\programs\\python\\python37\\lib\\site-packages\\matplotlib\\backends\\backend_agg.py:180: RuntimeWarning: Glyph 22259 missing from current font.\n",
      "  font.set_text(s, 0, flags=flags)\n",
      "c:\\users\\sunjin\\appdata\\local\\programs\\python\\python37\\lib\\site-packages\\matplotlib\\backends\\backend_agg.py:180: RuntimeWarning: Glyph 65288 missing from current font.\n",
      "  font.set_text(s, 0, flags=flags)\n",
      "c:\\users\\sunjin\\appdata\\local\\programs\\python\\python37\\lib\\site-packages\\matplotlib\\backends\\backend_agg.py:180: RuntimeWarning: Glyph 12399 missing from current font.\n",
      "  font.set_text(s, 0, flags=flags)\n",
      "c:\\users\\sunjin\\appdata\\local\\programs\\python\\python37\\lib\\site-packages\\matplotlib\\backends\\backend_agg.py:180: RuntimeWarning: Glyph 38500 missing from current font.\n",
      "  font.set_text(s, 0, flags=flags)\n",
      "c:\\users\\sunjin\\appdata\\local\\programs\\python\\python37\\lib\\site-packages\\matplotlib\\backends\\backend_agg.py:180: RuntimeWarning: Glyph 12356 missing from current font.\n",
      "  font.set_text(s, 0, flags=flags)\n",
      "c:\\users\\sunjin\\appdata\\local\\programs\\python\\python37\\lib\\site-packages\\matplotlib\\backends\\backend_agg.py:180: RuntimeWarning: Glyph 12383 missing from current font.\n",
      "  font.set_text(s, 0, flags=flags)\n",
      "c:\\users\\sunjin\\appdata\\local\\programs\\python\\python37\\lib\\site-packages\\matplotlib\\backends\\backend_agg.py:180: RuntimeWarning: Glyph 65289 missing from current font.\n",
      "  font.set_text(s, 0, flags=flags)\n"
     ]
    },
    {
     "data": {
      "image/png": "[encoded data removed]",
      "text/plain": [
       "<Figure size 432x288 with 1 Axes>"
      ]
     },
     "metadata": {
      "needs_background": "light"
     },
     "output_type": "display_data"
    },
    {
     "name": "stdout",
     "output_type": "stream",
     "text": [
      "174.01\n",
      "174.01\n",
      "174.01\n",
      "175.05\n",
      "20\n",
      "3.999999999999999\n",
      "4.0\n",
      "173.6375\n"
     ]
    },
    {
     "data": {
      "image/png": "[encoded data removed]",
      "text/plain": [
       "<Figure size 432x288 with 1 Axes>"
      ]
     },
     "metadata": {
      "needs_background": "light"
     },
     "output_type": "display_data"
    }
   ],
   "source": [
    "# -*- coding: utf-8 -*-\n",
    "import numpy as np\n",
    "import matplotlib.pyplot as plt\n",
    "\n",
    "x = np.loadtxt('seiseki.csv', delimiter=',')  # CSVファイルからデータを読込む\n",
    "plt.hist(x, bins=20, color='gray')\n",
    "plt.title('成績の頻度分布')\n",
    "plt.xlabel('点数')\n",
    "plt.ylabel('人数（頻度）')\n",
    "plt.show()# -*- coding: utf-8 -*-\n",
    "import numpy as np\n",
    "import matplotlib.pyplot as plt\n",
    "x = np.array(np.loadtxt('seiseki.csv', delimiter=\",\"))  # CSVファイルからデータを読込む\n",
    "\n",
    "print('variance', x.var().round(4))\n",
    "print('std-deviation', x.std().round(4))\n",
    "# 出力結果は\n",
    "\n",
    "\n",
    "plt.boxplot(x)       # 箱ひげ図をつくる\n",
    "plt.xticks([1], ['国語'])\n",
    "plt.title('箱ひげ図（0点は除いた）')\n",
    "plt.grid()\n",
    "plt.xlabel('科目')\n",
    "plt.ylabel('点数')\n",
    "plt.show()\n",
    "#-*- coding: utf-8 -*-\n",
    "# List 3-2 パッケージstatisticsの算術平均関数を使う\n",
    "from statistics import mean      # <-- statisticsパッケージからmeanをimport\n",
    "height = [168.3, 179.2, 165.8, 170.5, 188.2, \n",
    "    174.6, 162.8, 175.5, 178.1, 177.1]\n",
    "average = mean(height)   # importしたmeanを使う\n",
    "print(average)\n",
    "\n",
    "#-*- coding: utf-8 -*-\n",
    "# List 3-3 パッケージstatisticsの算術平均関数を使う\n",
    "import statistics      # <-- statisticsパッケージをimport\n",
    "height = [168.3, 179.2, 165.8, 170.5, 188.2, \n",
    "    174.6, 162.8, 175.5, 178.1, 177.1]\n",
    "average = statistics.mean(height)   # importしたstatisticsパッケージの中のmeanを使う\n",
    "print(average)\n",
    "#-*- coding: utf-8 -*-\n",
    "# List 3-4 パッケージstatisticsの算術平均関数を使\n",
    "from statistics import mean      # <-- statisticsパッケージからすべてをimport\n",
    "height = [168.3, 179.2, 165.8, 170.5, 188.2, \n",
    "    174.6, 162.8, 175.5, 178.1, 177.1]\n",
    "average = mean(height)   # <--importした中にmeanも含まれている\n",
    "print(average)\n",
    "#-*- coding: utf-8 -*-\n",
    "# List 3-5 パッケージstatisticsのメジアン・モード関数を使う\n",
    "from statistics import median, mode      # <-- statisticsパッケージからmedianとmodeをimport\n",
    "print(median([168.3, 179.2, 165.8, 170.5, 188.2, \n",
    "    174.6, 162.8, 175.5, 178.1, 177.1]))\n",
    "# 出力結果は　175.05\n",
    "print(mode([19, 21, 19, 20, 22, 19, 20, 21, 20, 20,]))\n",
    "# 出力結果は　20\n",
    "\n",
    "#-*- coding: utf-8 -*-\n",
    "# List 3-6 パッケージscipy.statsの幾何平均関数を使う\n",
    "from scipy.stats import gmean      # <-- scipy.statsパッケージからmedianとmodeをimport\n",
    "print(gmean([1, 2, 4, 8, 16])) \n",
    "# 出力結果は　4.0\n",
    "#-*- coding: utf-8 -*-\n",
    "# List 3-7 幾何平均を自前で計算する\n",
    "import numpy as np\n",
    "x = np.array([1, 2, 4, 8, 16])\n",
    "print( np.power(x.prod(), 1/len(x)) )\n",
    "# 出力結果は　4.0# -*- coding: utf-8 -*-\n",
    "# List 3-8 トリム平均の計算\n",
    "from scipy import stats\n",
    "x = [168.3, 179.2, 165.8, 170.5, 188.2, \n",
    "    174.6, 162.8, 175.5, 178.1, 177.1]\n",
    "print(stats.trim_mean(x, 0.1))  # xに対して両側から0.1ずつトリムして平均\n",
    "# 出力結果は　173.6375\n",
    "#-*- coding: utf-8 -*-\n",
    "# List 3-9 matplotlibでグラフを描くプログラム例\n",
    "import numpy as np          # numpyをnpとしてimport\n",
    "import matplotlib.pyplot as plt  # matplotlibのpyplotをpltとしてimport\n",
    "\n",
    "t = np.arange(0., 5., 0.2)   # 0から5まで、0.2おきに数を生成→リストtへ\n",
    "\n",
    "plt.title('drawing example1')           # グラフのタイトルを描く\n",
    "plt.plot(t, t, 'r--', label='linear')   # y=xの直線を描く\n",
    "plt.plot(t, t**2, 'bs', label='square') # y=x**2の直線を描く\n",
    "plt.plot(t, t**3, 'g^', label='cube')   # y=x**3の直線を描く\n",
    "plt.xlabel('x values')                  # x軸のラベルを描く\n",
    "plt.ylabel('y values')                  # y軸のラベルを描く\n",
    "plt.legend()                            # 凡例を描く\n",
    "plt.show()                              # 図全体を出力（表示）する\n"
   ]
  },
  {
   "cell_type": "code",
   "execution_count": null,
   "metadata": {},
   "outputs": [],
   "source": []
  },
  {
   "cell_type": "code",
   "execution_count": null,
   "metadata": {},
   "outputs": [],
   "source": []
  }
 ],
 "metadata": {
  "kernelspec": {
   "display_name": "Python 3",
   "language": "python",
   "name": "python3"
  },
  "language_info": {
   "codemirror_mode": {
    "name": "ipython",
    "version": 3
   },
   "file_extension": ".py",
   "mimetype": "text/x-python",
   "name": "python",
   "nbconvert_exporter": "python",
   "pygments_lexer": "ipython3",
   "version": "3.7.2"
  }
 },
 "nbformat": 4,
 "nbformat_minor": 2
}
